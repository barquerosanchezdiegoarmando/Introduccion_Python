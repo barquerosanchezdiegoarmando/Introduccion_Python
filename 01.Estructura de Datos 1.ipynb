{
 "cells": [
  {
   "cell_type": "markdown",
   "metadata": {},
   "source": [
    "<img src=\"escuela_economia_una_logo.png\" width=\"260\" height=\"60\">\n",
    "<center>\n",
    "    <b>Introducción a Python para Ciencias Económicas</b><br>\n",
    "    <b>Profesor:  Alexander Amoretti</b><br>\n",
    "    <b>Desarrollo:  Diego Armando Barquero Sánchez, Estudiante de Tercer Ciclo</b>\n",
    "<br><br>   \n",
    "<div style=\"font-size:180%;color:white; background-color: #008080;\">Estructura de Datos con Python</div>\n",
    "<div style=\"font-size:100%;color:white; background-color: #008080;\">Listas/Tuples</div>\n",
    "\n",
    "<i>Creado:     2023-Jul-12 \n",
    "    <br>\n",
    "    Actualizado: ------ </i>"
   ]
  },
  {
   "cell_type": "markdown",
   "metadata": {
    "collapsed": true
   },
   "source": [
    "## *Tabla de contenidos*\n",
    "\n",
    "1. **[Introducción a las listas](#Listas)**\n",
    "2. **[Introducción a los tuples](#Tuples)**"
   ]
  },
  {
   "cell_type": "markdown",
   "metadata": {},
   "source": [
    "<a id=\"Listas\"> </a>\n",
    "## 1. Introducción a las listas"
   ]
  },
  {
   "cell_type": "markdown",
   "metadata": {},
   "source": [
    "###  Creación listas\n",
    "\n",
    "Para crear listas usamos corchetes \"[  ]\" y empleamos \",\" para separar cada uno de los elementos dentro de la lista. Importante aclarar que es posible tener varios tipos de datos dentro de una lista, mas no es lo más recomendado. Ejemplo:(integers, float, strings, etc.)"
   ]
  },
  {
   "cell_type": "code",
   "execution_count": 10,
   "metadata": {},
   "outputs": [
    {
     "data": {
      "text/plain": [
       "[]"
      ]
     },
     "execution_count": 10,
     "metadata": {},
     "output_type": "execute_result"
    }
   ],
   "source": [
    "# Creamos una lista vacía\n",
    "lista_sin_nada = []\n",
    "lista_sin_nada"
   ]
  },
  {
   "cell_type": "markdown",
   "metadata": {},
   "source": [
    "**Dataso :Una lista puede tener múltiples listas \"adentro\", esto se denomina una lista anidada**"
   ]
  },
  {
   "cell_type": "code",
   "execution_count": 11,
   "metadata": {},
   "outputs": [
    {
     "data": {
      "text/plain": [
       "[['Finanzas', 'Economía'], [10, 45, 777]]"
      ]
     },
     "execution_count": 11,
     "metadata": {},
     "output_type": "execute_result"
    }
   ],
   "source": [
    "# lista anidada\n",
    "lista = [['Finanzas','Economía'],[10,45,777]]\n",
    "lista"
   ]
  },
  {
   "cell_type": "markdown",
   "metadata": {},
   "source": [
    "### Acceder a los datos de una lista\n",
    "Puedes acceder a datos específicos utilizando el número de índice"
   ]
  },
  {
   "cell_type": "markdown",
   "metadata": {},
   "source": [
    "**Utilizando índices en Python:**<br>\n",
    "Primeramente recordar que python empieza a \"contar\" desde 0, por ende el primer elemento de la lista es el número cero, esto puedo ser un poco complejo de internalizar al inicio pero con la práctica se da por hecho. Utilizamos los corchetes al final del \"nombre\" asignado a la variable que contiene nuestra lista y de esa forma \"llamamos\" al elemento que deseamos observar."
   ]
  },
  {
   "cell_type": "markdown",
   "metadata": {},
   "source": [
    "**Ejemplo: Meramente quiero ver cual es el elemento 4 en la lista.**\n",
    "\n",
    "*Recuerda que empieza a contar desde 0, por ende el elemento 4 tiene asignado el número 3 en el índice*"
   ]
  },
  {
   "cell_type": "code",
   "execution_count": 13,
   "metadata": {},
   "outputs": [
    {
     "name": "stdout",
     "output_type": "stream",
     "text": [
      "Julia\n"
     ]
    }
   ],
   "source": [
    "# Creamos una lista llamada curso\n",
    "Curso = ['Econometría', 'Inteligencia Artificial', 'Python', 'Julia', 'R' ]\n",
    "\n",
    "# \"Llamamos\" al elemento usando corchetes [3]->Elemento 4\n",
    "print(Curso[3])"
   ]
  },
  {
   "cell_type": "markdown",
   "metadata": {},
   "source": [
    "**Usando índices en Python de forma negativa?**:<br>\n",
    "Esto es empleado cuando tienes una lista de 3 millones de datos, y deseas accesar a los últimos elementos. En esas situaciones empleas -1 para \"llamar\" al último dato, -2 para el penúltimo y así sucesivamente."
   ]
  },
  {
   "cell_type": "markdown",
   "metadata": {},
   "source": [
    "**Ejemplo: Digamos que deseo saber cual es el penúltimo elemento en la lista**\n",
    "\n",
    "*Python empieza a contar desde 0, pero  debido a que no existe -0 en matemáticas se utiliza la sintaxis -1 para indexar al último valor de la lista*"
   ]
  },
  {
   "cell_type": "code",
   "execution_count": 18,
   "metadata": {},
   "outputs": [
    {
     "name": "stdout",
     "output_type": "stream",
     "text": [
      "Julia\n"
     ]
    }
   ],
   "source": [
    "# Creamos una lista llamada curso x2\n",
    "Curso = ['Econometría', 'Inteligencia Artificial', 'Python', 'Julia', 'R' ]\n",
    "\n",
    "# \"LLamamos\"al elemento usando corchetes [-2]->Penúltimo Elemento\n",
    "print(Curso[-2])"
   ]
  },
  {
   "cell_type": "markdown",
   "metadata": {},
   "source": [
    "### *Llamar a varios elementos de una lista*\n",
    "Para \"llamar\" a unos elementos en secuencia usamos :, empleando la lógica de los índices. Pero el primer número se incluye y el último no.\n",
    "\n",
    "[0:3]->Incluye al primer elemento y excluye al último->Resultado:Los tres primeros elementos de la lista \n",
    "\n",
    "(**Recordar que inicia a \"contar\" desde cero**)"
   ]
  },
  {
   "cell_type": "code",
   "execution_count": 19,
   "metadata": {},
   "outputs": [
    {
     "data": {
      "text/plain": [
       "['Econometría', 'Inteligencia Artificial', 'Python']"
      ]
     },
     "execution_count": 19,
     "metadata": {},
     "output_type": "execute_result"
    }
   ],
   "source": [
    "# Usamos la misma lista\n",
    "Curso = ['Econometría', 'Inteligencia Artificial', 'Python', 'Julia', 'R' ]\n",
    "\n",
    "# \"Llamamos\" a los primeros 3 datos\n",
    "Curso[0:3]"
   ]
  },
  {
   "cell_type": "markdown",
   "metadata": {},
   "source": [
    "Llamamos a todos los elementos"
   ]
  },
  {
   "cell_type": "code",
   "execution_count": 21,
   "metadata": {},
   "outputs": [
    {
     "data": {
      "text/plain": [
       "['Econometría', 'Inteligencia Artificial', 'Python', 'Julia', 'R']"
      ]
     },
     "execution_count": 21,
     "metadata": {},
     "output_type": "execute_result"
    }
   ],
   "source": [
    "# Usamos la misma lista\n",
    "Curso = ['Econometría', 'Inteligencia Artificial', 'Python', 'Julia', 'R' ]\n",
    "\n",
    "# \"Llamamos\" a todos los elementos\n",
    "Curso[:]"
   ]
  },
  {
   "cell_type": "markdown",
   "metadata": {},
   "source": [
    "### *Cambiar un elemento de una lista*\n",
    "Tenemos que llamar al índice del elemento que queremos emplear, y  luego cambiarlo por lo que este al lado derecho del \"=\""
   ]
  },
  {
   "cell_type": "code",
   "execution_count": 23,
   "metadata": {},
   "outputs": [
    {
     "data": {
      "text/plain": [
       "['Econometría', 'Inteligencia Artificial', 'Python', 'Estadística', 'R']"
      ]
     },
     "execution_count": 23,
     "metadata": {},
     "output_type": "execute_result"
    }
   ],
   "source": [
    "# Seguimos usando la misma lista\n",
    "Curso = ['Econometría', 'Inteligencia Artificial', 'Python', 'Julia', 'R' ]\n",
    "\n",
    "# Cambiamos al cuarto elemento de la lista \"Julia\" por Estadística\n",
    "Curso[3] = 'Estadística'\n",
    "\n",
    "Curso"
   ]
  },
  {
   "cell_type": "markdown",
   "metadata": {},
   "source": [
    "### Métodos de listas\n",
    "Python tiene varios métodos útiles que podemos aprender. "
   ]
  },
  {
   "cell_type": "markdown",
   "metadata": {},
   "source": [
    "\n",
    "append()<br>\n",
    "insert()<br>\n",
    "extend()<br>\n",
    "del <br>\n",
    "remove()<br>\n",
    "reverse()<br>"
   ]
  },
  {
   "cell_type": "markdown",
   "metadata": {},
   "source": [
    "**lista.append(item)**<br>\n",
    "Lo que hace es agregar un elemento ya puede ser una lista o un elemento solo"
   ]
  },
  {
   "cell_type": "code",
   "execution_count": 26,
   "metadata": {},
   "outputs": [
    {
     "data": {
      "text/plain": [
       "['Econometría',\n",
       " 'Inteligencia Artificial',\n",
       " 'Python',\n",
       " 'Julia',\n",
       " 'R',\n",
       " ['Estadística']]"
      ]
     },
     "execution_count": 26,
     "metadata": {},
     "output_type": "execute_result"
    }
   ],
   "source": [
    "Curso1 = ['Econometría', 'Inteligencia Artificial', 'Python', 'Julia', 'R' ]\n",
    "\n",
    "Curso2 = ['Estadística']\n",
    "\n",
    "# agregamos el elemento usando append\n",
    "Curso1.append(Curso2)\n",
    "Curso1"
   ]
  },
  {
   "cell_type": "markdown",
   "metadata": {},
   "source": [
    "**lista.insert(índice, item)**<br>\n",
    "Lo que hace es que te permite, insertar un elemento de forma indexada a la lista"
   ]
  },
  {
   "cell_type": "code",
   "execution_count": 28,
   "metadata": {},
   "outputs": [
    {
     "data": {
      "text/plain": [
       "['Econometría',\n",
       " 'Inteligencia Artificial',\n",
       " 'Estadística',\n",
       " 'Python',\n",
       " 'Julia',\n",
       " 'R']"
      ]
     },
     "execution_count": 28,
     "metadata": {},
     "output_type": "execute_result"
    }
   ],
   "source": [
    "# Creamos una lista\n",
    "Curso1 = ['Econometría', 'Inteligencia Artificial','Python', 'Julia', 'R' ]\n",
    "\n",
    "# Insertamos el elemento dentro de la lista en el índice 2, osea el tercer elemento\n",
    "Curso1.insert(2, 'Estadística')\n",
    "Curso1"
   ]
  },
  {
   "cell_type": "markdown",
   "metadata": {},
   "source": [
    "**lista.extend(items)**<br>\n",
    "Lo que hace es que une a dos listas diferentes y crea una nueva (**MUY ÚTIL**)"
   ]
  },
  {
   "cell_type": "code",
   "execution_count": 29,
   "metadata": {},
   "outputs": [
    {
     "data": {
      "text/plain": [
       "['Econometría',\n",
       " 'Inteligencia Artificial',\n",
       " 'Python',\n",
       " 'Julia',\n",
       " 'R',\n",
       " 'Finanzas',\n",
       " 'Relaciones Internacionales',\n",
       " 'Sociología']"
      ]
     },
     "execution_count": 29,
     "metadata": {},
     "output_type": "execute_result"
    }
   ],
   "source": [
    "\n",
    "Curso1 = ['Econometría', 'Inteligencia Artificial', 'Python', 'Julia', 'R' ]\n",
    "\n",
    "\n",
    "Curso2 = ['Finanzas', \"Relaciones Internacionales\", \"Sociología\"]\n",
    "\n",
    "# Concatenamos la lista\n",
    "Curso1.extend(Curso2)\n",
    "\n",
    "Curso1"
   ]
  },
  {
   "cell_type": "markdown",
   "metadata": {},
   "source": [
    "**Función del**<br>\n",
    "La función del lo que te permite es eliminar cierto elemento de la lista siempre y cuando especifiques cual es su ubicación en el índice"
   ]
  },
  {
   "cell_type": "code",
   "execution_count": 30,
   "metadata": {},
   "outputs": [
    {
     "data": {
      "text/plain": [
       "['Relaciones Internacionales', 'Sociología']"
      ]
     },
     "execution_count": 30,
     "metadata": {},
     "output_type": "execute_result"
    }
   ],
   "source": [
    "# Creamos la lista \n",
    "Curso = ['Finanzas', \"Relaciones Internacionales\", \"Sociología\"]\n",
    "# No me gusta Finanzas por eso lo quiero eliminar\n",
    "del Curso[0]\n",
    "\n",
    "# imprimimos el output\n",
    "Curso"
   ]
  },
  {
   "cell_type": "markdown",
   "metadata": {},
   "source": [
    "**lista.remove(item)**<br>\n",
    "Este método lo que te permite es eliminar de una lista un elemento especifico \"llamandolo\" por su nombre"
   ]
  },
  {
   "cell_type": "code",
   "execution_count": 31,
   "metadata": {},
   "outputs": [
    {
     "data": {
      "text/plain": [
       "['Relaciones Internacionales', 'Sociología']"
      ]
     },
     "execution_count": 31,
     "metadata": {},
     "output_type": "execute_result"
    }
   ],
   "source": [
    "# Misma lista \n",
    "Curso = ['Finanzas', \"Relaciones Internacionales\", \"Sociología\"]\n",
    "\n",
    "Curso.remove('Finanzas')\n",
    "\n",
    "Curso"
   ]
  },
  {
   "cell_type": "markdown",
   "metadata": {},
   "source": [
    "**lista.reverse()**<br>\n",
    "The reverse() method reverses the sorting order of the elements"
   ]
  },
  {
   "cell_type": "code",
   "execution_count": 32,
   "metadata": {},
   "outputs": [
    {
     "data": {
      "text/plain": [
       "['Sociología', 'Relaciones Internacionales', 'Finanzas']"
      ]
     },
     "execution_count": 32,
     "metadata": {},
     "output_type": "execute_result"
    }
   ],
   "source": [
    "# Misma lista \n",
    "Curso = ['Finanzas', \"Relaciones Internacionales\", \"Sociología\"]\n",
    "\n",
    "Curso.reverse()\n",
    "\n",
    "Curso"
   ]
  },
  {
   "cell_type": "markdown",
   "metadata": {},
   "source": [
    "### *Operadores comunes en las listas*"
   ]
  },
  {
   "cell_type": "markdown",
   "metadata": {},
   "source": [
    "**Concatenar(+)**<br>\n",
    "Lo que hace es sumar las listas. Hace lo mismo que el método extend()"
   ]
  },
  {
   "cell_type": "code",
   "execution_count": 35,
   "metadata": {},
   "outputs": [
    {
     "data": {
      "text/plain": [
       "['Econometría',\n",
       " 'Inteligencia Artificial',\n",
       " 'Python',\n",
       " 'Julia',\n",
       " 'R',\n",
       " 'Finanzas',\n",
       " 'Relaciones Internacionales',\n",
       " 'Sociología']"
      ]
     },
     "execution_count": 35,
     "metadata": {},
     "output_type": "execute_result"
    }
   ],
   "source": [
    "Curso1 = ['Econometría', 'Inteligencia Artificial', 'Python', 'Julia', 'R' ]\n",
    "\n",
    "\n",
    "Curso2 = ['Finanzas', \"Relaciones Internacionales\", \"Sociología\"]\n",
    "\n",
    "# Concatenamos las listas\n",
    "Curso1 + Curso2"
   ]
  },
  {
   "cell_type": "markdown",
   "metadata": {},
   "source": [
    "<a id=\"Tuples\"> </a>\n",
    "## 2. Introducción a los tuples\n"
   ]
  },
  {
   "cell_type": "markdown",
   "metadata": {},
   "source": [
    "### *Creación de tuples*\n",
    "Crearemos un par de tuples y también observaremos como se pueden mezclar tipos de datos. Se emplean los \"()\" para crear los tuples como tal."
   ]
  },
  {
   "cell_type": "code",
   "execution_count": 36,
   "metadata": {},
   "outputs": [
    {
     "name": "stdout",
     "output_type": "stream",
     "text": [
      "(123, 2.228, 'Buenas prácticas')\n"
     ]
    }
   ],
   "source": [
    "# Tuples de int, float, string\n",
    "tuple1 = (123, 2.228, \"Buenas prácticas\")\n",
    "print(tuple1)"
   ]
  },
  {
   "cell_type": "code",
   "execution_count": 37,
   "metadata": {},
   "outputs": [
    {
     "name": "stdout",
     "output_type": "stream",
     "text": [
      "('python', [12, 12, 31])\n"
     ]
    }
   ],
   "source": [
    "# Tuples con una string y una lista llena de int\n",
    "tuple1 = (\"python\", [12, 12, 31])\n",
    "print(tuple1)"
   ]
  },
  {
   "cell_type": "markdown",
   "metadata": {},
   "source": [
    "### *Acceder a los elementos de los tuples*\n",
    "Empleamos la misma lógica de los índices que con las listas."
   ]
  },
  {
   "cell_type": "code",
   "execution_count": 46,
   "metadata": {},
   "outputs": [
    {
     "data": {
      "text/plain": [
       "31"
      ]
     },
     "execution_count": 46,
     "metadata": {},
     "output_type": "execute_result"
    }
   ],
   "source": [
    "# Tuples con una string y una lista llena de int\n",
    "tuple1 = (\"python\", [12, 12, 31])\n",
    "\n",
    "# Accesamos al segundo elemento que es una lista y queremos al primer elemento de la lista, empleamos dos veces los []\n",
    "tuple1[1][2]"
   ]
  },
  {
   "cell_type": "markdown",
   "metadata": {},
   "source": [
    "**Índice negativo**<br>\n",
    "Se emplea la misma lógica que con las listas. "
   ]
  },
  {
   "cell_type": "markdown",
   "metadata": {},
   "source": [
    "### *Cambiar los valores dentro de los tuples*\n",
    "Los tuples son inmutables, entiendase que no se pueden cambiar, a menos de que el elemento a cambiar sea una lista, esta si es mutable."
   ]
  },
  {
   "cell_type": "code",
   "execution_count": 47,
   "metadata": {},
   "outputs": [
    {
     "name": "stdout",
     "output_type": "stream",
     "text": [
      "(123, ['a', 'b', 'c'], 'Machine Learning')\n",
      "(123, ['a', 'b', 'Cartaguito Campeón'], 'Machine Learning')\n"
     ]
    }
   ],
   "source": [
    "Tuple = (123, ['a', \"b\", 'c'], \"Machine Learning\")\n",
    "print(Tuple)\n",
    "\n",
    "#cambiemos los elementos dentro de la lista, dentro del tuple\n",
    "Tuple[1][2] = \"Cartaguito Campeón\"\n",
    "print(Tuple)"
   ]
  },
  {
   "cell_type": "code",
   "execution_count": 49,
   "metadata": {},
   "outputs": [
    {
     "ename": "TypeError",
     "evalue": "'tuple' object does not support item assignment",
     "output_type": "error",
     "traceback": [
      "\u001b[1;31m---------------------------------------------------------------------------\u001b[0m",
      "\u001b[1;31mTypeError\u001b[0m                                 Traceback (most recent call last)",
      "Cell \u001b[1;32mIn[49], line 4\u001b[0m\n\u001b[0;32m      1\u001b[0m Tuple \u001b[38;5;241m=\u001b[39m (\u001b[38;5;241m123\u001b[39m, [\u001b[38;5;124m'\u001b[39m\u001b[38;5;124ma\u001b[39m\u001b[38;5;124m'\u001b[39m, \u001b[38;5;124m\"\u001b[39m\u001b[38;5;124mb\u001b[39m\u001b[38;5;124m\"\u001b[39m, \u001b[38;5;124m'\u001b[39m\u001b[38;5;124mc\u001b[39m\u001b[38;5;124m'\u001b[39m], \u001b[38;5;124m\"\u001b[39m\u001b[38;5;124mMachine Learning\u001b[39m\u001b[38;5;124m\"\u001b[39m)\n\u001b[0;32m      3\u001b[0m \u001b[38;5;66;03m# Cambiemos los elementos que no son una lista, y como veremos nos dará error por que este tipo de estructura de datos es inmutable\u001b[39;00m\n\u001b[1;32m----> 4\u001b[0m \u001b[43mTuple\u001b[49m\u001b[43m[\u001b[49m\u001b[38;5;241;43m0\u001b[39;49m\u001b[43m]\u001b[49m \u001b[38;5;241m=\u001b[39m \u001b[38;5;124m'\u001b[39m\u001b[38;5;124mEstadística\u001b[39m\u001b[38;5;124m'\u001b[39m\n",
      "\u001b[1;31mTypeError\u001b[0m: 'tuple' object does not support item assignment"
     ]
    }
   ],
   "source": [
    "Tuple = (123, ['a', \"b\", 'c'], \"Machine Learning\")\n",
    "\n",
    "# Cambiemos los elementos que no son una lista, y como veremos nos dará error por que este tipo de estructura de datos es inmutable\n",
    "Tuple[0] = 'Estadística'"
   ]
  },
  {
   "cell_type": "code",
   "execution_count": 51,
   "metadata": {},
   "outputs": [
    {
     "ename": "TypeError",
     "evalue": "'tuple' object doesn't support item deletion",
     "output_type": "error",
     "traceback": [
      "\u001b[1;31m---------------------------------------------------------------------------\u001b[0m",
      "\u001b[1;31mTypeError\u001b[0m                                 Traceback (most recent call last)",
      "Cell \u001b[1;32mIn[51], line 4\u001b[0m\n\u001b[0;32m      1\u001b[0m \u001b[38;5;66;03m# Tampoco se puede borrar usando la función del \u001b[39;00m\n\u001b[0;32m      2\u001b[0m Tuple \u001b[38;5;241m=\u001b[39m (\u001b[38;5;241m123\u001b[39m, [\u001b[38;5;124m'\u001b[39m\u001b[38;5;124ma\u001b[39m\u001b[38;5;124m'\u001b[39m, \u001b[38;5;124m\"\u001b[39m\u001b[38;5;124mb\u001b[39m\u001b[38;5;124m\"\u001b[39m, \u001b[38;5;124m'\u001b[39m\u001b[38;5;124mc\u001b[39m\u001b[38;5;124m'\u001b[39m], \u001b[38;5;124m\"\u001b[39m\u001b[38;5;124mMachine Learning\u001b[39m\u001b[38;5;124m\"\u001b[39m)\n\u001b[1;32m----> 4\u001b[0m \u001b[38;5;28;01mdel\u001b[39;00m Tuple[\u001b[38;5;241m0\u001b[39m]\n",
      "\u001b[1;31mTypeError\u001b[0m: 'tuple' object doesn't support item deletion"
     ]
    }
   ],
   "source": [
    "# Tampoco se puede borrar usando la función del \n",
    "Tuple = (123, ['a', \"b\", 'c'], \"Machine Learning\")\n",
    "\n",
    "del Tuple[0]"
   ]
  },
  {
   "cell_type": "markdown",
   "metadata": {},
   "source": [
    "### *Métodos de los Tuples*"
   ]
  },
  {
   "cell_type": "markdown",
   "metadata": {},
   "source": [
    "count()<br>\n",
    "index()<br>\n",
    "sorted()"
   ]
  },
  {
   "cell_type": "markdown",
   "metadata": {},
   "source": [
    "**count()**<br>\n",
    "Contará cuantas veces aparece un mismo elemento en un tuple"
   ]
  },
  {
   "cell_type": "code",
   "execution_count": 53,
   "metadata": {},
   "outputs": [
    {
     "data": {
      "text/plain": [
       "4"
      ]
     },
     "execution_count": 53,
     "metadata": {},
     "output_type": "execute_result"
    }
   ],
   "source": [
    "Letras = ('a','p','p','l','e','e','d','e', 'd','e','a','c','w')\n",
    "Letras.count('e')"
   ]
  },
  {
   "cell_type": "markdown",
   "metadata": {},
   "source": [
    "**index()**<br>\n",
    "En caso de saber el valor,palabra que queremos buscar, pero no sabemos el número del índece usamos este método **(Te va a dar el primero que aparece**)"
   ]
  },
  {
   "cell_type": "code",
   "execution_count": 54,
   "metadata": {},
   "outputs": [
    {
     "data": {
      "text/plain": [
       "6"
      ]
     },
     "execution_count": 54,
     "metadata": {},
     "output_type": "execute_result"
    }
   ],
   "source": [
    "Letras = ('a','p','p','l','e','e','d','e', 'd','e','a','c','w')\n",
    "Letras.index('d')"
   ]
  },
  {
   "cell_type": "code",
   "execution_count": 56,
   "metadata": {},
   "outputs": [
    {
     "data": {
      "text/plain": [
       "'d'"
      ]
     },
     "execution_count": 56,
     "metadata": {},
     "output_type": "execute_result"
    }
   ],
   "source": [
    "Letras[6]"
   ]
  },
  {
   "cell_type": "markdown",
   "metadata": {},
   "source": [
    "**sorted()**<br>\n",
    "Si tiene un orden númerico te lo va a ordenar. Esta es una función"
   ]
  },
  {
   "cell_type": "code",
   "execution_count": 57,
   "metadata": {},
   "outputs": [
    {
     "data": {
      "text/plain": [
       "[2, 2, 3, 3, 4, 5, 6, 7, 8, 9, 9]"
      ]
     },
     "execution_count": 57,
     "metadata": {},
     "output_type": "execute_result"
    }
   ],
   "source": [
    "Tuple = (2,3,5,6,4,7,8,9,9,2,3)\n",
    "sorted(Tuple)"
   ]
  }
 ],
 "metadata": {
  "kernelspec": {
   "display_name": "Python 3 (ipykernel)",
   "language": "python",
   "name": "python3"
  },
  "language_info": {
   "codemirror_mode": {
    "name": "ipython",
    "version": 3
   },
   "file_extension": ".py",
   "mimetype": "text/x-python",
   "name": "python",
   "nbconvert_exporter": "python",
   "pygments_lexer": "ipython3",
   "version": "3.9.16"
  }
 },
 "nbformat": 4,
 "nbformat_minor": 2
}

{
 "cells": [
  {
   "cell_type": "markdown",
   "id": "cd6612ea",
   "metadata": {},
   "source": [
    "<img src=\"escuela_economia_una_logo.png\" width=\"260\" height=\"60\">\n",
    "<center>\n",
    "    <b>Introducción a Python para Ciencias Económicas</b><br>\n",
    "    <b>Profesor:  Alexander Amoretti</b><br>\n",
    "    <b>Desarrollo:  Diego Armando Barquero Sánchez, Estudiante de Tercer Ciclo</b>\n",
    "<br><br>   \n",
    "<div style=\"font-size:180%;color:white; background-color: #008080;\">Estructura de Datos con Python</div>\n",
    "<div style=\"font-size:100%;color:white; background-color: #008080;\">Diccionarios/Sets</div>\n",
    "\n",
    "<i>Creado:     2023-Jul-13\n",
    "    <br>\n",
    "    Actualizado: ------ </i>"
   ]
  },
  {
   "cell_type": "markdown",
   "id": "69e93aa5",
   "metadata": {},
   "source": [
    "## *Tabla de contenidos*"
   ]
  },
  {
   "cell_type": "markdown",
   "id": "25a2b08d",
   "metadata": {},
   "source": [
    "1. **[Introducción a los diccionarios](#Dictionarios)**\n",
    "2. **[Introducción a los sets](#Sets)**"
   ]
  },
  {
   "cell_type": "markdown",
   "id": "popular-squad",
   "metadata": {},
   "source": [
    "<a id=\"Dictionarios\"> </a>\n",
    "## 1. Introducción a los diccionarios\n",
    "\n",
    "                        "
   ]
  },
  {
   "cell_type": "markdown",
   "id": "attached-hamilton",
   "metadata": {
    "collapsed": true
   },
   "source": [
    "**Sintaxis general de un diccionario:**<br>\n",
    "Nombre_del_diccionario = {&nbsp;llave_1: valor_1,<br>\n",
    "&nbsp;&nbsp;&nbsp;&nbsp;&nbsp;&nbsp;&nbsp;&nbsp;&nbsp;&nbsp;&nbsp;&nbsp;&nbsp;&nbsp;&nbsp;&nbsp;&nbsp;&nbsp;&nbsp;&nbsp;&nbsp;&nbsp;&nbsp;&nbsp;&nbsp;&nbsp;&nbsp;&nbsp;&nbsp;&nbsp;&nbsp;&nbsp;                   llave_2: valor_2,<br>\n",
    "&nbsp;&nbsp;&nbsp;&nbsp;&nbsp;&nbsp;&nbsp;&nbsp;&nbsp;&nbsp;&nbsp;&nbsp;&nbsp;&nbsp;&nbsp;&nbsp;&nbsp;&nbsp;&nbsp;&nbsp;&nbsp;&nbsp;&nbsp;&nbsp;&nbsp;&nbsp;&nbsp;&nbsp;&nbsp;&nbsp;&nbsp;&nbsp;                    llave_3: valor_3,<br>\n",
    "&nbsp;&nbsp;&nbsp;&nbsp;&nbsp;&nbsp;&nbsp;&nbsp;&nbsp;&nbsp;&nbsp;&nbsp;&nbsp;&nbsp;&nbsp;&nbsp;&nbsp;&nbsp;&nbsp;&nbsp;&nbsp;&nbsp;&nbsp;&nbsp;&nbsp;&nbsp;&nbsp;&nbsp;&nbsp;&nbsp;&nbsp;&nbsp;                    }"
   ]
  },
  {
   "cell_type": "markdown",
   "id": "foreign-hours",
   "metadata": {
    "collapsed": true
   },
   "source": [
    "### *Creación de diccionarios*\n",
    "Empleamos \"{}\" para crearlos, separamos utilizando \",\". La particularidad es que para asignar llaves y valores empleamos \":\""
   ]
  },
  {
   "cell_type": "code",
   "execution_count": 27,
   "id": "thousand-sherman",
   "metadata": {},
   "outputs": [
    {
     "name": "stdout",
     "output_type": "stream",
     "text": [
      "{'Maria': 1200000, 'Juan': 1500000, 'Valeria': 2000000}\n"
     ]
    }
   ],
   "source": [
    "# creamos un diccionario\n",
    "Ingresos = {\n",
    "    \"Maria\" : 1200000,\n",
    "    \"Juan\" : 1500000,\n",
    "    \"Valeria\" : 2000000\n",
    "}\n",
    "print(Ingresos)"
   ]
  },
  {
   "cell_type": "markdown",
   "id": "vocal-shirt",
   "metadata": {},
   "source": [
    "### *Accesamos a los elementos de un diccionario*\n",
    "En este caso en vez de emplear los números indexados usamos la llave para \"llamar\" al valor asignado a dicha llave"
   ]
  },
  {
   "cell_type": "code",
   "execution_count": 28,
   "id": "attractive-senator",
   "metadata": {},
   "outputs": [
    {
     "data": {
      "text/plain": [
       "1500000"
      ]
     },
     "execution_count": 28,
     "metadata": {},
     "output_type": "execute_result"
    }
   ],
   "source": [
    "# Cuanta plata gana Juan?\n",
    "x = Ingresos[\"Juan\"]\n",
    "x"
   ]
  },
  {
   "cell_type": "markdown",
   "id": "north-applicant",
   "metadata": {},
   "source": [
    "### *Cambiar elementos o valores en diccionarios*\n",
    "Puedes cambiar el elemento \"llamandolo\" a través de su nombre llave"
   ]
  },
  {
   "cell_type": "code",
   "execution_count": 30,
   "id": "decimal-blackjack",
   "metadata": {},
   "outputs": [
    {
     "data": {
      "text/plain": [
       "{2015: 34500, 2016: 34300, 2017: 40000}"
      ]
     },
     "execution_count": 30,
     "metadata": {},
     "output_type": "execute_result"
    }
   ],
   "source": [
    "Ventas_anuales = {\n",
    "  2015: 34500,\n",
    "  2016: 34300,\n",
    "  2017: 40000\n",
    "}\n",
    "\n",
    "Ventas_anuales"
   ]
  },
  {
   "cell_type": "code",
   "execution_count": 32,
   "id": "dangerous-russell",
   "metadata": {},
   "outputs": [
    {
     "data": {
      "text/plain": [
       "{2015: 45000, 2016: 34300, 2017: 40000}"
      ]
     },
     "execution_count": 32,
     "metadata": {},
     "output_type": "execute_result"
    }
   ],
   "source": [
    "# Las ventas del 2015 fueron más altas por ende, vamos a cambiarlas\n",
    "Ventas_anuales[2015] = 45000\n",
    "\n",
    "Ventas_anuales"
   ]
  },
  {
   "cell_type": "markdown",
   "id": "challenging-wages",
   "metadata": {},
   "source": [
    "**Que tan \"grande\" es un diccionario**?"
   ]
  },
  {
   "cell_type": "code",
   "execution_count": 34,
   "id": "cordless-classroom",
   "metadata": {},
   "outputs": [
    {
     "name": "stdout",
     "output_type": "stream",
     "text": [
      "3\n"
     ]
    }
   ],
   "source": [
    "print(len(Ventas_anuales)) # Tienes 3 \"pisos\", 3 llaves"
   ]
  },
  {
   "cell_type": "markdown",
   "id": "advanced-award",
   "metadata": {},
   "source": [
    "**Incluir Items**<br>\n",
    "Podemos agregar un item nuevo a un diccionario, siempre y cuando la llave sea nueva, asignandole un valor."
   ]
  },
  {
   "cell_type": "code",
   "execution_count": 35,
   "id": "rotary-breed",
   "metadata": {},
   "outputs": [
    {
     "data": {
      "text/plain": [
       "{2015: 34500, 2016: 34300, 2017: 40000, '2018': 55000}"
      ]
     },
     "execution_count": 35,
     "metadata": {},
     "output_type": "execute_result"
    }
   ],
   "source": [
    "Ventas_anuales = {\n",
    "  2015: 34500,\n",
    "  2016: 34300,\n",
    "  2017: 40000\n",
    "}\n",
    "# 2018 es una llave nueva, que se le asigna un nuevo valor\n",
    "Ventas_anuales['2018'] = 55000\n",
    "\n",
    "Ventas_anuales"
   ]
  },
  {
   "cell_type": "markdown",
   "id": "postal-battery",
   "metadata": {},
   "source": [
    "### *Métodos para diccionarios*"
   ]
  },
  {
   "cell_type": "markdown",
   "id": "enclosed-antibody",
   "metadata": {},
   "source": [
    "Casi todos estos métodos son para borrar elementos de un diccionario<br>\n",
    "pop() method<br>\n",
    "popitem() method<br>\n",
    "del keywords<br>\n",
    "clear keyword<br>\n",
    "Copy() <br>\n",
    "Sorted()"
   ]
  },
  {
   "cell_type": "markdown",
   "id": "modular-variation",
   "metadata": {},
   "source": [
    "**pop()**<br>"
   ]
  },
  {
   "cell_type": "code",
   "execution_count": 36,
   "id": "metric-roman",
   "metadata": {},
   "outputs": [
    {
     "data": {
      "text/plain": [
       "{'Economía': 1289000, 'Finanzas': 1056000}"
      ]
     },
     "execution_count": 36,
     "metadata": {},
     "output_type": "execute_result"
    }
   ],
   "source": [
    "# creamos un diccionario\n",
    "# fundamentado en lo reportado por radiografía laboral 2019\n",
    "Salario_reportado = {\n",
    "  \"Economía\": 1289000,\n",
    "  \"Finanzas\": 1056000,\n",
    "  \"Mercadeo\": 1062000\n",
    "}\n",
    "\n",
    "# pop sirve para borrar una llave específica\n",
    "Salario_reportado.pop(\"Mercadeo\")\n",
    "\n",
    "Salario_reportado"
   ]
  },
  {
   "cell_type": "markdown",
   "id": "convinced-reaction",
   "metadata": {},
   "source": [
    "**popitem()**<br>\n"
   ]
  },
  {
   "cell_type": "code",
   "execution_count": 37,
   "id": "imperial-welding",
   "metadata": {},
   "outputs": [
    {
     "data": {
      "text/plain": [
       "{'Economía': 1289000, 'Finanzas': 1056000}"
      ]
     },
     "execution_count": 37,
     "metadata": {},
     "output_type": "execute_result"
    }
   ],
   "source": [
    "# creamos un diccionario\n",
    "# fundamentado en lo reportado por radiografía laboral 2019\n",
    "Salario_reportado = {\n",
    "  \"Economía\": 1289000,\n",
    "  \"Finanzas\": 1056000,\n",
    "  \"Mercadeo\": 1062000\n",
    "}\n",
    "\n",
    "# popitem sirve para borrar la última llave\n",
    "Salario_reportado.popitem()\n",
    "\n",
    "Salario_reportado"
   ]
  },
  {
   "cell_type": "markdown",
   "id": "nervous-differential",
   "metadata": {},
   "source": [
    "**del keywords**<br>"
   ]
  },
  {
   "cell_type": "code",
   "execution_count": 38,
   "id": "forward-qatar",
   "metadata": {},
   "outputs": [
    {
     "data": {
      "text/plain": [
       "{'Economía': 1289000, 'Finanzas': 1056000}"
      ]
     },
     "execution_count": 38,
     "metadata": {},
     "output_type": "execute_result"
    }
   ],
   "source": [
    "# creamos un diccionario\n",
    "# fundamentado en lo reportado por radiografía laboral 2019\n",
    "Salario_reportado = {\n",
    "  \"Economía\": 1289000,\n",
    "  \"Finanzas\": 1056000,\n",
    "  \"Mercadeo\": 1062000\n",
    "}\n",
    "\n",
    "# del sirve para borrar una llave específica\n",
    "del Salario_reportado[\"Mercadeo\"]\n",
    "\n",
    "Salario_reportado"
   ]
  },
  {
   "cell_type": "markdown",
   "id": "sound-short",
   "metadata": {},
   "source": [
    "**clear()**<br>"
   ]
  },
  {
   "cell_type": "code",
   "execution_count": 39,
   "id": "lined-drive",
   "metadata": {},
   "outputs": [
    {
     "data": {
      "text/plain": [
       "{}"
      ]
     },
     "execution_count": 39,
     "metadata": {},
     "output_type": "execute_result"
    }
   ],
   "source": [
    "# creamos un diccionario\n",
    "# fundamentado en lo reportado por radiografía laboral 2019\n",
    "Salario_reportado = {\n",
    "  \"Economía\": 1289000,\n",
    "  \"Finanzas\": 1056000,\n",
    "  \"Mercadeo\": 1062000\n",
    "    }\n",
    "# Vaciamos completamente el diccionario con clear\n",
    "Salario_reportado.clear()\n",
    "\n",
    "Salario_reportado"
   ]
  },
  {
   "cell_type": "markdown",
   "id": "presidential-knock",
   "metadata": {},
   "source": [
    "**Copy()**<br>"
   ]
  },
  {
   "cell_type": "code",
   "execution_count": 40,
   "id": "welcome-shooting",
   "metadata": {},
   "outputs": [],
   "source": [
    "# creamos un diccionario\n",
    "# fundamentado en lo reportado por radiografía laboral 2019\n",
    "Salario_reportado = {\n",
    "  \"Economía\": 1289000,\n",
    "  \"Finanzas\": 1056000,\n",
    "  \"Mercadeo\": 1062000\n",
    "    }\n",
    "\n",
    "# hacemos una copia del diccionario para mantener al original sin cambios\n",
    "# NO ES LO MISMO a = b , por que los cambios en b afectarán a a. Para evitar eso se emplea .copy\n",
    "Salario_reportado_suli = Salario_reportado.copy()"
   ]
  },
  {
   "cell_type": "markdown",
   "id": "muslim-conversion",
   "metadata": {},
   "source": [
    "**sorted()**<br>"
   ]
  },
  {
   "cell_type": "code",
   "execution_count": 22,
   "id": "stone-economy",
   "metadata": {},
   "outputs": [
    {
     "data": {
      "text/plain": [
       "[1, 3, 5, 7, 9]"
      ]
     },
     "execution_count": 22,
     "metadata": {},
     "output_type": "execute_result"
    }
   ],
   "source": [
    "Cuadrado = {1: 1, 3: 9, 5: 25, 7: 49, 9: 81}\n",
    "sorted(Cuadrado)"
   ]
  },
  {
   "cell_type": "markdown",
   "id": "complex-title",
   "metadata": {},
   "source": [
    "<a id=\"Sets\"> </a>\n",
    "## 2. Introducción a los sets"
   ]
  },
  {
   "cell_type": "markdown",
   "id": "optional-paintball",
   "metadata": {},
   "source": [
    "###\n",
    "En Python los sets se crean a partir de usar \"{}\" pero sin las llaves de los diccionarios"
   ]
  },
  {
   "cell_type": "code",
   "execution_count": 42,
   "id": "alive-athens",
   "metadata": {},
   "outputs": [
    {
     "name": "stdout",
     "output_type": "stream",
     "text": [
      "{1, 2, 4, 5, 6}\n"
     ]
    },
    {
     "data": {
      "text/plain": [
       "{1, 2, 3, 4}"
      ]
     },
     "execution_count": 42,
     "metadata": {},
     "output_type": "execute_result"
    }
   ],
   "source": [
    "# Creamos un set\n",
    "Números = {1, 1, 1, 1, 4, 5, 6, 2, 2, 2}\n",
    "print (Números)\n",
    "\n",
    "# particularidad de los sets, no permiten elementos repetidos y desordenados por consiguiente solamente contará una vez el elemento\n",
    "# además existe este tipo de función set() que lo que te permite es hacer que una lista que posee números repetidos te de un set\n",
    "# con solo los valores que posee sin importar cuantas veces se repita dentro de la lista original\n",
    "set([1, 2, 3, 4, 4, 4, 4, 4, 4, 4, 4, 4, 4, 4, 4, 4])"
   ]
  },
  {
   "cell_type": "markdown",
   "id": "7ad61f46",
   "metadata": {},
   "source": [
    "### *Aclaración: La mayoría de métodos y funciones no son exclusivas de algún tipo de estructura de datos*"
   ]
  },
  {
   "cell_type": "markdown",
   "id": "living-story",
   "metadata": {},
   "source": [
    "add()<br>\n",
    "update()<br>\n",
    "len()<br>\n",
    "remove()<br>\n",
    "pop()<br>"
   ]
  }
 ],
 "metadata": {
  "kernelspec": {
   "display_name": "Python 3 (ipykernel)",
   "language": "python",
   "name": "python3"
  },
  "language_info": {
   "codemirror_mode": {
    "name": "ipython",
    "version": 3
   },
   "file_extension": ".py",
   "mimetype": "text/x-python",
   "name": "python",
   "nbconvert_exporter": "python",
   "pygments_lexer": "ipython3",
   "version": "3.9.16"
  }
 },
 "nbformat": 4,
 "nbformat_minor": 5
}
